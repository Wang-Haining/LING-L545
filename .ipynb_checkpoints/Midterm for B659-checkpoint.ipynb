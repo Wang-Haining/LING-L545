{
 "cells": [
  {
   "cell_type": "markdown",
   "metadata": {},
   "source": [
    "# <center>Midterm for B659<center>"
   ]
  },
  {
   "cell_type": "markdown",
   "metadata": {},
   "source": [
    "## 1. Tokenisation and segmentation\n",
    "\n",
    "Choose a language and describe three tokenisation ambiguities, giving at least one example of each (3 marks)."
   ]
  },
  {
   "cell_type": "code",
   "execution_count": 1,
   "metadata": {},
   "outputs": [],
   "source": [
    "from nltk.tokenize import word_tokenize\n",
    "from nltk.tokenize.casual import casual_tokenize\n",
    "import en_core_web_sm"
   ]
  },
  {
   "cell_type": "markdown",
   "metadata": {},
   "source": [
    "1. Ambiguity caused by emoticon.\n",
    "\n",
    "Example: The mitigation result is negative, cheers ;)."
   ]
  },
  {
   "cell_type": "code",
   "execution_count": 2,
   "metadata": {},
   "outputs": [],
   "source": [
    "e1 = \"\"\"The mitigation result is negative, cheers ;).\"\"\""
   ]
  },
  {
   "cell_type": "code",
   "execution_count": 3,
   "metadata": {},
   "outputs": [
    {
     "data": {
      "text/plain": [
       "['The', 'mitigation', 'result', 'is', 'negative,', 'cheers', ';).']"
      ]
     },
     "execution_count": 3,
     "metadata": {},
     "output_type": "execute_result"
    }
   ],
   "source": [
    "# a naive tokenzier, only split with encounter space\n",
    "e1.split(' ')"
   ]
  },
  {
   "cell_type": "code",
   "execution_count": 4,
   "metadata": {},
   "outputs": [
    {
     "data": {
      "text/plain": [
       "['The', 'mitigation', 'result', 'is', 'negative', ',', 'cheers', ';', ')', '.']"
      ]
     },
     "execution_count": 4,
     "metadata": {},
     "output_type": "execute_result"
    }
   ],
   "source": [
    "word_tokenize(e1)"
   ]
  },
  {
   "cell_type": "code",
   "execution_count": 5,
   "metadata": {},
   "outputs": [
    {
     "data": {
      "text/plain": [
       "['The', 'mitigation', 'result', 'is', 'negative', ',', 'cheers', ';)', '.']"
      ]
     },
     "execution_count": 5,
     "metadata": {},
     "output_type": "execute_result"
    }
   ],
   "source": [
    "casual_tokenize(e1)"
   ]
  },
  {
   "cell_type": "code",
   "execution_count": 6,
   "metadata": {},
   "outputs": [
    {
     "data": {
      "text/plain": [
       "['The', 'mitigation', 'result', 'is', 'negative', ',', 'cheers', ';)', '.']"
      ]
     },
     "execution_count": 6,
     "metadata": {},
     "output_type": "execute_result"
    }
   ],
   "source": [
    "nlp = en_core_web_sm.load()\n",
    "[token.text for token in nlp(e1)]"
   ]
  },
  {
   "cell_type": "markdown",
   "metadata": {},
   "source": [
    "The naive tokenzier made mistakes in the comma and period. The nltk default word tokenizer messed up by slipping our lovely emoticon."
   ]
  },
  {
   "cell_type": "markdown",
   "metadata": {},
   "source": [
    "2. Ambiguity caused by abbreviation.\n",
    "\n",
    "Example: We won't be able to meet Mr. Bourne before 8:00 a.m."
   ]
  },
  {
   "cell_type": "code",
   "execution_count": 7,
   "metadata": {},
   "outputs": [],
   "source": [
    "e2 = \"\"\"We won't be able to meet Mr. Bourne before 8:00 a.m.\"\"\""
   ]
  },
  {
   "cell_type": "code",
   "execution_count": 8,
   "metadata": {},
   "outputs": [
    {
     "data": {
      "text/plain": [
       "['We',\n",
       " \"won't\",\n",
       " 'be',\n",
       " 'able',\n",
       " 'to',\n",
       " 'meet',\n",
       " 'Mr.',\n",
       " 'Bourne',\n",
       " 'before',\n",
       " '8:00',\n",
       " 'a.m.']"
      ]
     },
     "execution_count": 8,
     "metadata": {},
     "output_type": "execute_result"
    }
   ],
   "source": [
    "e2.split(' ')"
   ]
  },
  {
   "cell_type": "code",
   "execution_count": 9,
   "metadata": {},
   "outputs": [
    {
     "data": {
      "text/plain": [
       "['We',\n",
       " 'wo',\n",
       " \"n't\",\n",
       " 'be',\n",
       " 'able',\n",
       " 'to',\n",
       " 'meet',\n",
       " 'Mr.',\n",
       " 'Bourne',\n",
       " 'before',\n",
       " '8:00',\n",
       " 'a.m',\n",
       " '.']"
      ]
     },
     "execution_count": 9,
     "metadata": {},
     "output_type": "execute_result"
    }
   ],
   "source": [
    "word_tokenize(e2)"
   ]
  },
  {
   "cell_type": "code",
   "execution_count": 10,
   "metadata": {},
   "outputs": [
    {
     "data": {
      "text/plain": [
       "['We',\n",
       " \"won't\",\n",
       " 'be',\n",
       " 'able',\n",
       " 'to',\n",
       " 'meet',\n",
       " 'Mr',\n",
       " '.',\n",
       " 'Bourne',\n",
       " 'before',\n",
       " '8:',\n",
       " '00',\n",
       " 'a',\n",
       " '.',\n",
       " 'm',\n",
       " '.']"
      ]
     },
     "execution_count": 10,
     "metadata": {},
     "output_type": "execute_result"
    }
   ],
   "source": [
    "casual_tokenize(e2)"
   ]
  },
  {
   "cell_type": "code",
   "execution_count": 11,
   "metadata": {},
   "outputs": [
    {
     "data": {
      "text/plain": [
       "['We',\n",
       " 'wo',\n",
       " \"n't\",\n",
       " 'be',\n",
       " 'able',\n",
       " 'to',\n",
       " 'meet',\n",
       " 'Mr.',\n",
       " 'Bourne',\n",
       " 'before',\n",
       " '8:00',\n",
       " 'a.m.']"
      ]
     },
     "execution_count": 11,
     "metadata": {},
     "output_type": "execute_result"
    }
   ],
   "source": [
    "[token.text for token in nlp(e2)]"
   ]
  },
  {
   "cell_type": "markdown",
   "metadata": {},
   "source": [
    "This sentence cause much confusion.\n",
    "The naive tokenizer works well, leaving \"won't\" unsplitted.\n",
    "The default tokenzier works fine.\n",
    "The casual_tokenzie works surprisingly bad.\n",
    "The spaCy's en_core_web_sm works fine."
   ]
  },
  {
   "cell_type": "markdown",
   "metadata": {},
   "source": [
    "3. Ambiguity caused by its slippery nature.\n",
    "\n",
    "Example: 有钱活得好，没钱活得好。（If you are wealthy, you live well; if you are poor, you need to be skillful.）\n",
    "\n",
    "The right tokenzition: 有钱 活得 好 ， 没钱 活 得好 。\n",
    "\n",
    "But this is really hard."
   ]
  },
  {
   "cell_type": "markdown",
   "metadata": {},
   "source": [
    "# 2. Morphological analysis\n",
    "In the Mayan language Kaqchikel, transitive verbs agree for person and number with both the subject and the object. A typical finite verb form is composed of:\n",
    "\n",
    "ASPECT PREFIX - OBJECT AGREEMENT - SUBJECT AGREEMENT - VERB STEM\n",
    "\n",
    "Write a .lexc file that encodes the following forms of the verb tzʼät “to see” (4 marks):"
   ]
  },
  {
   "cell_type": "code",
   "execution_count": null,
   "metadata": {},
   "outputs": [],
   "source": [
    "# Sorry, I need more time to learn the grammar of .lexc file.\n",
    "Multichar_Symbols\n",
    "\n",
    "%<tv%>                  ! Transitive\n",
    "%<n%>                   ! Noun\n",
    "%<pl%>                  ! Plural\n",
    "%<nom%>                 ! Nominative\n",
    "%<ins%>                 ! Instrumental\n",
    "%<gen%>                 ! Genetive\n",
    "%<abl%>                 ! Ablative\n",
    "\n",
    "LEXICON Root\n",
    "\n",
    "Transitive ;\n",
    "\n",
    "LEXICON Transitive\n",
    "\n",
    "tzʼät:tzʼät ;                   ! to see"
   ]
  },
  {
   "cell_type": "markdown",
   "metadata": {},
   "source": [
    "# 3. Morphological disambiguation\n",
    "The following sentence in English presents a number of ambiguities. Write three constraint grammar rules which will (partially) disambiguate it — that is disambiguate at least part of it (3 marks)."
   ]
  },
  {
   "cell_type": "code",
   "execution_count": null,
   "metadata": {},
   "outputs": [],
   "source": [
    "SECTION\n",
    "# If there is a plural noun to the left\n",
    "# I cannot be a verb of thrid person plural or second person singular.\n",
    "REMOVE (vblex past p3 pl) or (vblex past p2 sg) IF (-1 (n pl)) ;\n",
    "\n",
    "# If there is an imperative to the right\n",
    "# I cannot be a adjective.\n",
    "REMOVE (adj) IF (1 (vblex imp)) ;\n",
    "\n",
    "# If there is an adjective to the right\n",
    "# I cannot be a adjective.\n",
    "REMOVE (adj) IF (1 (vblex past)) ;\n",
    "\n"
   ]
  }
 ],
 "metadata": {
  "kernelspec": {
   "display_name": "Python 3",
   "language": "python",
   "name": "python3"
  },
  "language_info": {
   "codemirror_mode": {
    "name": "ipython",
    "version": 3
   },
   "file_extension": ".py",
   "mimetype": "text/x-python",
   "name": "python",
   "nbconvert_exporter": "python",
   "pygments_lexer": "ipython3",
   "version": "3.8.5"
  }
 },
 "nbformat": 4,
 "nbformat_minor": 4
}
