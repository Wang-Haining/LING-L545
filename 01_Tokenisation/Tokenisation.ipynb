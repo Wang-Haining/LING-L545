{
 "cells": [
  {
   "cell_type": "markdown",
   "metadata": {},
   "source": [
    "# <center>Tokenization Experiment</center>"
   ]
  },
  {
   "cell_type": "markdown",
   "metadata": {},
   "source": [
    "## Report\n",
    "The comparison should include:\n",
    "\n",
    "- Brief description of each segmenter used.\n",
    "\n",
    "- Quantitative evaluation: Accuracy percentage (how many sentence boundaries were detected correctly)\n",
    "\n",
    "- Qualitative evaluation: What kind of mistakes does each segmenter make?\n",
    "\n"
   ]
  },
  {
   "cell_type": "markdown",
   "metadata": {},
   "source": [
    "The wiki corpus I used is written Aragonese.\n",
    "I did my research on this language but found no specific sentence tokenizer build for it.\n",
    "It is a dialect in Spain and share many traits with Spanish.\n",
    "So I try two sentence tokenizers support Spanish (NLTK's `casual_tokenize()` and spaCy's default `sentencizer`)."
   ]
  },
  {
   "cell_type": "code",
   "execution_count": 1,
   "metadata": {},
   "outputs": [],
   "source": [
    "from nltk.tokenize import sent_tokenize\n",
    "import en_core_web_sm\n",
    "from functools import reduce\n",
    "import random\n",
    "import spacy"
   ]
  },
  {
   "cell_type": "code",
   "execution_count": 2,
   "metadata": {},
   "outputs": [],
   "source": [
    "# first get 50 pharagrahs of the Aragonese wiki.text as suggested\n",
    "# read in the whole text in a list of strings\n",
    "with open('../00_Unix/wiki.txt', 'r') as f:\n",
    "    raw = f.readlines()"
   ]
  },
  {
   "cell_type": "code",
   "execution_count": 3,
   "metadata": {},
   "outputs": [
    {
     "data": {
      "text/plain": [
       "['\\n',\n",
       " 'Astronomia:\\n',\n",
       " 'Le astronomia [-mí-] (ab le greco \"astro\" pro \"stella\" e \"nomia\" de \"nomos\" pro \"lege\", tunc \"astronomia\" o \"leges del stellas\") es le scientia que studia le universo material ultra le atmosphera terrestre.\\n',\n",
       " 'Le astronomia es le scientia que tracta de lo que se refere al astros, e principalmente al leges de lor movimentos.\\n',\n",
       " 'Le astronomia se divide in varie specialitates, in function del objecto a studio, technica empleate, e aspecto del astros que se studia (Feinstein):\\n',\n",
       " 'Inter alteres, nos distingue specialitates como:\\n',\n",
       " 'Astronomia, que significa etymologicamente \"leges del stellas\", es le scientia cuje objecto es le observation e le explication de phenomenos que occurre o existe foras del terra. Quando se comprendeva que le elementos que forma le \"objectos celestial\" esseva le mesme que forma le terra, e que le mesme leges del physica se applica a illos, le astrophysica habeva nascite, como un application del physica al phenomenos observate per le astronomia.\\n',\n",
       " 'Le majoritate del astronomos (si non tote illes) ha un solide preparation in le physica, e le observationes es semper ponite in contexto astrophysic, assi que le distinction inter astronomia e astrophysica jam quasi non existe.\\n',\n",
       " 'Le astronomia es un del poc scientias ubi amateurs totevia joca un rollo active, per exemplo in le discoperta de objectos transiente (como cometas) e le observation del variabilitate del stellas.\\n',\n",
       " 'In su principios, le astronomia suponeva solo le observation e prediction del movimentos del objectos celestial que poteva esser identificate per simple vista. Le astronomos esseva communmente tamben sacerdotes, e per un large tempore se credeva que le phenomenos celestial habeva alcun influentia occulte in le eventos in le terra (vide Astrologia). Le grecos faceva importante contributiones al astronomia, ma le progresso cessava quasi completemente in le Medievo, excepto per le travalio de alcun astronomos arabe.\\n']"
      ]
     },
     "execution_count": 3,
     "metadata": {},
     "output_type": "execute_result"
    }
   ],
   "source": [
    "# there are many '\\n' and many strings are too short\n",
    "raw[:10]"
   ]
  },
  {
   "cell_type": "code",
   "execution_count": 4,
   "metadata": {},
   "outputs": [],
   "source": [
    "# get rid of \"\\n\" and short paragraph\n",
    "paragraphs = [p.strip('\\n') for p in raw]"
   ]
  },
  {
   "cell_type": "code",
   "execution_count": 5,
   "metadata": {},
   "outputs": [],
   "source": [
    "# get a list of strings that have a length at least of 100 characters\n",
    "paragraphs = [p for p in paragraphs if len(p)>= 100]"
   ]
  },
  {
   "cell_type": "code",
   "execution_count": 6,
   "metadata": {},
   "outputs": [],
   "source": [
    "# select 50 paragrah without out repetition\n",
    "random.seed(47408)\n",
    "paragraphs = random.sample(paragraphs, 50)"
   ]
  },
  {
   "cell_type": "code",
   "execution_count": 7,
   "metadata": {
    "scrolled": true
   },
   "outputs": [],
   "source": [
    "# concatenate the strings in the list together.\n",
    "txt = reduce(lambda x, y: x + ' ' + y, paragraphs)"
   ]
  },
  {
   "cell_type": "code",
   "execution_count": 24,
   "metadata": {
    "scrolled": false
   },
   "outputs": [
    {
     "data": {
      "text/plain": [
       "'A membrana nuclear u carioteca, ye una capa porosa (con doble unidat de membrana lipidica) que delimita a o nuclio, a estructura caracteristica d\\'as celulas eucariotas. Os textos replegatos amuestran a influencia de rasgos foneticos, sintacticos y lexicos de diversas luengas. Se dicen coordenatas cartesianas en honor a René Descartes (1596-1650), o famoso filosofo y matematico francés que querió alazetar o suyo pensamiento filosofico con a necesidat de prener un «punto de partida» sobre o que edificar tot o conoiximiento. Como creyador d\\'a cheometría analitica, Descartes tamién prencipió prenendo un «punto de partida», o sistema de referencia cartesiano, ta poder representar a cheometría plana, que fa servir nomás dos rectas perpendiculars entre sí que se tallan en un punto dito «orichen de coordenatas». Henri Bergson, naixito de París (Francia) o 18 d\\'octubre de 1859 y muerto tamién en París o 4 de chinero de 1941, estió un filosofo y escritor francés, que recibió por a suya obra o Premio Nobel de Literatura en 1927. Estió miembro de l\\'Academia francesa dende 1914. Les Borges del Camp ye una localidat catalana de lo Baixo Campo, en la Provincia de Tarragona, situata a 13\\xa0km de Tarragona. La suya población ye de 1.855 habitants(2005), en una superficie de 8,23\\xa0km² y una densidat de 225,39 habitants/km². L\\'Alta Ribagorza (en catalán \"Alta Ribagorça\") ye una comarca pirenenca situata en Catalunya a lo sud d\\'a Val d\\'Aran, a l\\'ueste d\\'o Pallars Sobirán y a lo norte d\\'o Pallars Chusán. A ponient muga con a comarca homonima d\\'Aragón. A comarca la creyoron por lei l\\'anyo 1987, chunto con o Plan d\\'Urchel y lo Plan de l\\'Estanyo. Henri Matisse (31 de decembre 1869 – 3 de novembre 1954) esseva un artista francese, cognoscite per su uso de color e per su fluide, brillante e original designos. Como designator, imprimitor e sculptor, ma principalmente como pictor, Matisse es un del artistas le plus cognoscite del 20me seculo. Ben que ille initialmente esseva nominate un \"fauve\" ('"
      ]
     },
     "execution_count": 24,
     "metadata": {},
     "output_type": "execute_result"
    }
   ],
   "source": [
    "# now I compose a text of 50 paragraph from wiki.txt\n",
    "# the length is 13765\n",
    "# the boundary between sentences is reconstructed\n",
    "txt[:2000]"
   ]
  },
  {
   "cell_type": "code",
   "execution_count": 9,
   "metadata": {},
   "outputs": [],
   "source": [
    "# I did my research on Aragonese and found no specific sentence tokenizer\n",
    "# The most similar language that widely-used is Spanish\n",
    "# So here I try NLTK's sent_tokenize on Spanish\n",
    "sents_nltk_sp = sent_tokenize(txt, language='spanish')"
   ]
  },
  {
   "cell_type": "code",
   "execution_count": 10,
   "metadata": {},
   "outputs": [],
   "source": [
    "# also try english tokenzier\n",
    "sents_nltk_en = sent_tokenize(txt, language='english')"
   ]
  },
  {
   "cell_type": "code",
   "execution_count": 11,
   "metadata": {},
   "outputs": [],
   "source": [
    "# try 2 tokenizer with spacy\n",
    "nlp_sp = spacy.load(\"es_core_news_sm\")\n",
    "nlp_en = spacy.load(\"en_core_web_sm\")"
   ]
  },
  {
   "cell_type": "code",
   "execution_count": 33,
   "metadata": {},
   "outputs": [],
   "source": [
    "sents_spacy_sp = [str(sent) for sent in list(nlp_sp(txt).sents)]\n",
    "sents_spacy_en = [str(sent) for sent in list(nlp_en(txt).sents)]"
   ]
  },
  {
   "cell_type": "code",
   "execution_count": 27,
   "metadata": {},
   "outputs": [
    {
     "data": {
      "text/plain": [
       "[\"A membrana nuclear u carioteca, ye una capa porosa (con doble unidat de membrana lipidica) que delimita a o nuclio, a estructura caracteristica d'as celulas eucariotas.\",\n",
       " 'Os textos replegatos amuestran a influencia de rasgos foneticos, sintacticos y lexicos de diversas luengas.',\n",
       " 'Se dicen coordenatas cartesianas en honor a René Descartes (1596-1650), o famoso filosofo y matematico francés que querió alazetar o suyo pensamiento filosofico con a necesidat de prener un «punto de partida» sobre o que edificar tot o conoiximiento.',\n",
       " \"Como creyador d'a cheometría analitica, Descartes tamién prencipió prenendo un «punto de partida», o sistema de referencia cartesiano, ta poder representar a cheometría plana, que fa servir nomás dos rectas perpendiculars entre sí que se tallan en un punto dito «orichen de coordenatas».\",\n",
       " \"Henri Bergson, naixito de París (Francia) o 18 d'octubre de 1859 y muerto tamién en París o 4 de chinero de 1941, estió un filosofo y escritor francés, que recibió por a suya obra o Premio Nobel de Literatura en 1927.\",\n",
       " \"Estió miembro de l'Academia francesa dende 1914.\",\n",
       " 'Les Borges del Camp ye una localidat catalana de lo Baixo Campo, en la Provincia de Tarragona, situata a 13\\xa0km de Tarragona.',\n",
       " 'La suya población ye de 1.855 habitants(2005), en una superficie de 8,23\\xa0km² y una densidat de 225,39 habitants/km².',\n",
       " 'L\\'Alta Ribagorza (en catalán \"Alta Ribagorça\") ye una comarca pirenenca situata en Catalunya a lo sud d\\'a Val d\\'Aran, a l\\'ueste d\\'o Pallars Sobirán y a lo norte d\\'o Pallars Chusán.',\n",
       " \"A ponient muga con a comarca homonima d'Aragón.\",\n",
       " \"A comarca la creyoron por lei l'anyo 1987, chunto con o Plan d'Urchel y lo Plan de l'Estanyo.\",\n",
       " 'Henri Matisse (31 de decembre 1869 – 3 de novembre 1954) esseva un artista francese, cognoscite per su uso de color e per su fluide, brillante e original designos.',\n",
       " 'Como designator, imprimitor e sculptor, ma principalmente como pictor, Matisse es un del artistas le plus cognoscite del 20me seculo.',\n",
       " 'Ben que ille initialmente esseva nominate un \"fauve\" (animal salvage), a partir del annos 1920 ille esseva de plus in plus laudate como un maestro del tradition classic de pictura.',\n",
       " 'Su maestria del linguage expressive de color e designo, monstrate in un corpore de obras trans plus que un medie seculo, le ganiava recognition como un figura principal in le arte moderne.',\n",
       " 'Tamién, o 7 de chinero de 2010, s\\'inauguró en Granyén o reloch solar mas gran d\\'Europa e, seguntes palabras d\\'a Consellera de Sciencia, Tecnolochía e Universidat d\\'o Gubierno d\\'Aragón d\\'allora, Pilar Ventura, \"talment o mas gran d\\'o mundo\".',\n",
       " \"O reloch presenta una estructura d'acero de mas de sies metros de diametro e quasi cinco toneladas de peso.\",\n",
       " \"Consta d'un aniello troquelato con a numeración que se reflectan en a parti d'o diedro, antimás de planchas en anglo, a on se sinyala la hora.\",\n",
       " \"Ista forma permite emplegar-lo ta explanicar a cheometría e os movimientos d'a Tierra, convertindo-se en un instrumento con una gran capacidat didactica e de divulgación scientifica.\",\n",
       " \"O reloch se financió con fundos d'o Plan E e se realizó con a ideya de que se convierta en un elemento emblematico d'a localidat de Granyén.\",\n",
       " 'Un inclination pro le paradoxo es un elemento central del philosophias de Laozi, Zhuangzi, Heracleitos, Bhartrhari, Meister Eckhart, Hegel, Kierkegaard, Nietzsche e G.K.',\n",
       " 'Chesterton, inter multe alteres.',\n",
       " 'Søren Kierkegaard, per exemplo, scribe in le \"Fragmentos Philosophic\" que Preneba lo suyo nombre per haber estau en aquell puesto, an se cremaban os calavres d\\'os sentenciaus per o tribunal d\\'o Santo Oficio.',\n",
       " 'Chipmusica es un termino general alternate, anque utilisate pro describer musica influentiate per le chiptune.',\n",
       " \"Ta plegar a Balzers se puet prener l'autobús u venir-ie en auto.\",\n",
       " 'Tamién se i puet arribar en tren, encara que a gara mas amanada (\"Forst Hilti\") se troba enta o sudeste.',\n",
       " 'En a ciudat bi ha a-saber-los carrils beci y ye posible logar una moto u un auto.',\n",
       " 'Kuala Lumpur es le capital e le citate le plus populose de Malaysia.',\n",
       " 'Su area urban ha un population (in 2018) de plus que 7.5 milliones de personas.',\n",
       " \"S'ha descrito un comportamiento d'evitación en os himenopteros, que evitarían mesmo salir de l'arna quan detectan abellaruelos en os arredols.\",\n",
       " \"O impacto ye minimo por depredación directa (inferior a o 2% d'insectos capturaus en a epoca de cobata d'as aus, que ye quan más en cazan) y ye perfectament asumible por a propia demografía de l'arna, manimenos.\",\n",
       " \"A polinización con insectos ye mes complicada que a polinización anemofila pero mes efectiva, y leva os grans de polen a flors d'a mesma especie.\",\n",
       " 'As plantas con flors presentan unas olors agradables, unas colors envistables y sustancias nutritivas pa atrayer a los insectos.',\n",
       " \"O polen empastra determinadas partz d'o insecto, por eixemplo os pelos d'o torax, y o insecto levará grans de polen a atras flors.\",\n",
       " 'O Ducato de Benavent estió o territorio controlato por os longobardos situato més a lo sud en a Italia medieval.',\n",
       " 'Yera centrato en a ciudat de Benavent.',\n",
       " \"En la practica estió un territorio independient d'o Reino d'os Longobardos, de fueras d'os reinatos dende Grimoals dica Liutprand.\",\n",
       " 'Le Congregation Christian in Brasil es un communion non sectari de ecclesias con radices in el revivamento pentecostal italian in Chicago comenciato in 1907.',\n",
       " \"Lacorvilla ye un lugar aragonés d'a provincia de Zaragoza situato en o municipio de Luna, en a comarca d'as Cinco Villas y partito chudicial d'Exeya d'os Caballers.\",\n",
       " 'D\\'entre a suya filmografía, cal destacar as suyas interpretacions en cintas como \"There\\'s Something About Mary\" (1998, Bobby Farrelly y Peter Farrelly), \"Meet the Parents\" (2000, Jay Roach), \"The Royal Tenenbaums\" (2001, Wes Anderson) y \"Night at the Museum\" (2006, Shawn Levy).',\n",
       " 'A un livel intermeyo entre o vocabulario de base y o vocabulario estendiu se troba o vocabulario común (en italián \"vocabolario comune\") que comprende alto u baixo 45.000 parolas.',\n",
       " 'Adhibindo-lo a o vocabulario de base se plega a os 50.000 termins, que constituyen o vocabulario corrient (en italián \"vocabolario corrente\"), u o conchunto de termins que pueden estar \"\"emplegaus u entendius indipendentement d\\'a profesión y que son cheneralment conoixius por una persona con un livel meyo superior d\\'educación\"\".',\n",
       " \"Alphonse Juin luitó en a Primera Guerra Mundial, partecipando en bellas batallas, como a primera batalla d'o Marne, estando ferito en 1915.\",\n",
       " 'Continó a suya carrera melitar, plegando a cheneral en 1938, mandando en primerías d\\'a Segunda Guerra Mundial a 15ª División d\\'Infantería y partecipando en a \"Operación Dynamo\" en 1940 mientres a batalla de Francia, a on fue feito presoner por as tropas d\\'a \"Wehrmacht\" d\\'o Tercer Reich.',\n",
       " '\"X-Men\" es le gruppo fictive de homines de immensa poteres e qui es ducite per Charles Xavier.',\n",
       " 'X-Men es create de Stan Lee pro Marvel Comics.',\n",
       " 'Le principal membros es Cyclops, Wolverine, Storm e Jean Grey.',\n",
       " 'Dimpués d\\'a retirata esportiva d\\'o suyo pai en l\\'anyo 1991, a suya familia s\\'establió en Zaragoza a on ella y a suya chirmana, naixita de Sevilla mientres o suyo pai chugaba de porter en o Sevilla FC, prencipiaron a practicar chimnasia ritmica en o \"Club Escuela de Gimnasia Rítmica de Zaragoza\".',\n",
       " \"A localidat de Sanet i els Negrals se troba situata a 82 metros d'altaria sobre o ran d'a mar, a una distancia de 13\\xa0km d'a ciudat de Denya, a capital d'a suya comarca y d'o suyo partito chudicial, de 94\\xa0km d'a ciudat d'Alicant, a capital d'a suya provincia, y a 100\\xa0km d'a ciudat de Valencia, a capital d'o País Valencián.\",\n",
       " 'Gran Bilbau (en vasco \"Bilboaldea\", en castellán \"Gran Bilbao\") ye una comarca situata en a provincia de Vizcaya (País Vasco).',\n",
       " 'O gaelico escocés (\"Gàidhlig na h-Alba\") ye una luenga celta resultato d\\'a fragmentación d\\'o gaelico antigo, que plegó ta Escocia arredol d\\'o sieglo V d.C., quán os escotos d\\'o norte d\\'Irlanda fundoron o \"Reino de Dalriada\" en a costa occidental.',\n",
       " 'Moresco es un municipalitate que se trova in le provincia de Fermo in le region del Marche in Italia.',\n",
       " \"O suyo termin municipal muga a o norte con Burgui, municipio navarro en a val de Roncal; a l'este con Fago y a Canal de Berdún; a o sud con Sigüés y a l'ueste con Bigüezal en o termin municipal de Romanzado, tamién en Navarra.\",\n",
       " 'Ben que omne elementos de gruppo 16 includente oxygeno se defini como chalcogenos, oxygeno e oxydos es usualmente distinguite de chalcogenos e chalcogenidos.',\n",
       " 'Le termino chalcogenido es plus communmente reservate pro sulfidos, seleniatos, e telluratos, plus tosto que pro oxydos.',\n",
       " 'L\\'Alqueria d\\'Asnar (\"L\\'Alqueria d\\'Asnar\" en catalán y oficialment; \"Alquería de Aznar\" en castellán) ye un municipio valencián, situato en a comarca d\\'o condato, provincia d\\'Alicant y partito chudicial d\\'Alcoi.',\n",
       " 'Escobar de Polendos es un municipalitate que se trova in le provincia de Segovia, in le communitate autonome de Castilia e Leon, Espania.',\n",
       " \"Los Puertos de Moriella yeran importans pa la comunicación entre los moros de Zaragoza y Valencia, y por ixo Alifonso I lo Batallero la prenió en 1117, con l'aduya de Gastón IV de Biarn.\",\n",
       " 'La capital de l\\'Ebro yera aislata de Valencia, lo suyo prencipal refirme, con la rota de Los Puertos u \"Al Burt\" bloqueyata, y preparata pa ser presa l\\'anyo vinient.',\n",
       " 'O 22 d\\'agosto de 2004, roboron a man armata la versión más conoixita d\\'o Museu Munch, devez que un altro quadro de Munch, \"A Madonna\".',\n",
       " 'Seguntes o diario sueco \"Svenska Dagbladet\", o quadro ye estato cremato.',\n",
       " \"Os adverbios de tiempo en francés modifican l'acción expresada en o verbo y pueden substuir a un complemento circunstancial de tiempo.\",\n",
       " \"Este tipo d'adverbio aporta una indicación de tiempo (durada u cronolochía) d'a palabra d'a que ye o satelite.\",\n",
       " 'Le Union Europee e le Nationes Unite lucta con le traductiones e interpretationes inter un massa de diverse linguas \"official\" parlate e scripte.',\n",
       " 'Tote le labor con traductiones etc. augmenta le possibilitate de miscomprehensiones, traductiones erronee, crea barrieras e costa multe tempore e ressources.',\n",
       " \"Mariano Rajoy Brey (Santiago de Compostela, 27 de marzo de 1955) ye un politico gallego, activo en a politica d'ambito espanyol.\",\n",
       " \"Estió ministro d'Espanya en diversas carteras entre 1996 y 2003 y vicepresident d'o Gubierno d'Espanya dende 2000 ta 2003 y president d'o Partiu Popular.\",\n",
       " \"Dimpués d'estar o prencipal lider d'a oposición entre a VIII y a IX Lechislatura d'Espanya, o suyo partiu obtenió a mayoría absoluta en as eleccions chenerals celebratas o 20 de noviembre de 2011.\",\n",
       " \"Fue investiu President d'o Gubierno d'Espanya por o Congreso d'os Deputaus o 20 d'aviento de 2011, prenendo posesión d'o cargo o 21 d'aviento de 2011 dica l'1 de chunio de 2018.\",\n",
       " \"A localidat de l'Algaba ye situata a 11 metros d'altaria sobre o ran d'a mar, a una distancia de 7 km d'a ciudat de Sevilla, a capital d'a suya provincia y d'o suyo partito chudicial y d'Andalucía.\",\n",
       " \"Se troba a o canto d'o río Guadalquivir, mugant con Sevilla.\",\n",
       " 'A suya población ye de 8.041 habitants (2010), en una superficie de 2,50 km², con una densidat de población de 3.216,40 hab/km².',\n",
       " \"A rechión ye trescruzada por o sector oriental d'os Monts Metaliferos eslovacos, una sierra montanyosa que fa parti d'os Cárpatos.\",\n",
       " \"O río prencipal d'a rechión ye o Hornád.\",\n",
       " 'En a suya parti oriental o territorio ye mas plano, unindo-se con a plana hongara.',\n",
       " 'José Iranzo Bielsa u más conoixito como O pastor d\\'Andorra (\"El pastor de Andorra\" en castellán) estió un d\\'os más famosos cantaires de jota.',\n",
       " \"Naixito d'Andorra (Teruel) o 20 d'octubre de 1915 y muerto en a mesma localidat o 22 de noviembre de 2016, ya yera pastor quan no teneba que ueito anyadas.\",\n",
       " 'Múnich (en alemán , en baverán \"Minga\"), capital d\\'o estato federato de Bavera y, dimpués de Berlín y Hamburgo, a tercera ciudat más gran d\\'Alemanya.',\n",
       " \"Estió d'antis mas a capital d'o ducato de Bavera y d'o suyo succesor o reino de Bavera.\",\n",
       " 'Ye situata sobre o río Isar.',\n",
       " \"Ye a seu d'a Universidat de Múnich.\",\n",
       " \"A Universidat FUMEC (Universidade Fundação Mineira de Educação e Cultura) ye una institución d'amostranza superior en Brasil, con seu en a ciudat de Belo Horizonte, Estato de Minas Gerais, Brasil.\",\n",
       " \"Tamién cal destacar que en l'anyo 2017 fue campeona d'o mundo de pesca deportiva por equipes ganando o campionato femenín celebrau en a localidat hongaresa de Szolnok.\",\n",
       " \"Dimpués de Monzón a N-240 remonta o río Cinca dica Balbastro, pasando por Castillón d'o Puent.\",\n",
       " \"En l'actualidat no fa si que bordeyar a capital semontanesa, pero enantes se i meteba por o centro.\",\n",
       " \"Quan ye pasada Balbastro, a nacional s'en va ta Peraltiella seguindo aguas-t'alto lo Vero y dimpués pasa por o termino municipal d'Ascellas-Ponzano, chusto entre os dos lugars que le dan nombre.\",\n",
       " \"Entre o nuclio d'Ascellas y o d'Angüés, a nacional pasa por debaixo d'o viaducto de l'A-22 y trescruza l'Alcanadre.\",\n",
       " 'En Angüés deixa definitivament dezaga o Semontano de Balbastro y se mete en a comarca de Plana de Uesca.',\n",
       " 'Chris Hansen (Christopher Edward Hansen), naixito de Chicago (Illinois) o 13 de setiembre de 1959, ye un actor estatounitense.',\n",
       " \"L'anvista dende a torre tien un alcance de 85\\xa0km, dillá d'a badía de Sydney en o norte, l'ocián Pacifico a l'este, a badía Botany a o sud y os Monts Azuls a l'ueste.\",\n",
       " \"O suyo termin municipal muga con Bicorp, Bolbait, Enguera, Millars y Navarrés (en esta misma comarca) y con Ayora (comarca de Val d'Ayora) y Tous (comarca de Ribera Alta).\",\n",
       " 'Autariba (\"Autariba\" en occitán, \"Auterive\" en francés y oficialment) ye una comuna occitana en o departamento francés d\\'Alta Garona, districto de Muriel, cantón d\\'Autariba (en ye a suya capital) y rechión de Meyodía-Pireneus.',\n",
       " 'Bonate Sopra es un municipalitate que se trova in le provincia de Bergamo, in le region del Lombardia, in Italia.',\n",
       " 'Villanueva de Sant Agostín (en castellán \"Villanueva de San Agustín\") ye un lugar desapareixiu d\\'o municipio d\\'Albalat de l\\'Arcebispe, en a comarca d\\'o Baixo Martín.']"
      ]
     },
     "execution_count": 27,
     "metadata": {},
     "output_type": "execute_result"
    }
   ],
   "source": [
    "sents_nltk_sp"
   ]
  },
  {
   "cell_type": "code",
   "execution_count": 37,
   "metadata": {},
   "outputs": [
    {
     "data": {
      "text/plain": [
       "94"
      ]
     },
     "execution_count": 37,
     "metadata": {},
     "output_type": "execute_result"
    }
   ],
   "source": [
    "# How many sentences do the tokenizers get\n",
    "len(sents_nltk_sp)"
   ]
  },
  {
   "cell_type": "code",
   "execution_count": 38,
   "metadata": {},
   "outputs": [
    {
     "data": {
      "text/plain": [
       "93"
      ]
     },
     "execution_count": 38,
     "metadata": {},
     "output_type": "execute_result"
    }
   ],
   "source": [
    "len(sents_spacy_sp)"
   ]
  },
  {
   "cell_type": "code",
   "execution_count": 39,
   "metadata": {
    "scrolled": false
   },
   "outputs": [
    {
     "data": {
      "text/plain": [
       "84"
      ]
     },
     "execution_count": 39,
     "metadata": {},
     "output_type": "execute_result"
    }
   ],
   "source": [
    "# how many are the intersections\n",
    "len(set(sents_nltk_sp).intersection(set(sents_spacy_sp)))"
   ]
  },
  {
   "cell_type": "markdown",
   "metadata": {},
   "source": [
    "So two sentence tokenizers agree on 84 out of 93/94 sentences.\n",
    "Let me focus on what they disagree."
   ]
  },
  {
   "cell_type": "code",
   "execution_count": 44,
   "metadata": {
    "scrolled": false
   },
   "outputs": [
    {
     "data": {
      "text/plain": [
       "{\"A Universidat FUMEC (Universidade Fundação Mineira de Educação e Cultura) ye una institución d'amostranza superior en Brasil, con seu en a ciudat de Belo Horizonte, Estato de Minas Gerais, Brasil.\",\n",
       " 'Bonate Sopra es un municipalitate que se trova in le provincia de Bergamo, in le region del Lombardia, in Italia.',\n",
       " 'Chesterton, inter multe alteres.',\n",
       " 'Dimpués d\\'a retirata esportiva d\\'o suyo pai en l\\'anyo 1991, a suya familia s\\'establió en Zaragoza a on ella y a suya chirmana, naixita de Sevilla mientres o suyo pai chugaba de porter en o Sevilla FC, prencipiaron a practicar chimnasia ritmica en o \"Club Escuela de Gimnasia Rítmica de Zaragoza\".',\n",
       " 'Escobar de Polendos es un municipalitate que se trova in le provincia de Segovia, in le communitate autonome de Castilia e Leon, Espania.',\n",
       " 'Gran Bilbau (en vasco \"Bilboaldea\", en castellán \"Gran Bilbao\") ye una comarca situata en a provincia de Vizcaya (País Vasco).',\n",
       " 'Le termino chalcogenido es plus communmente reservate pro sulfidos, seleniatos, e telluratos, plus tosto que pro oxydos.',\n",
       " 'Moresco es un municipalitate que se trova in le provincia de Fermo in le region del Marche in Italia.',\n",
       " \"O polen empastra determinadas partz d'o insecto, por eixemplo os pelos d'o torax, y o insecto levará grans de polen a atras flors.\",\n",
       " 'Un inclination pro le paradoxo es un elemento central del philosophias de Laozi, Zhuangzi, Heracleitos, Bhartrhari, Meister Eckhart, Hegel, Kierkegaard, Nietzsche e G.K.'}"
      ]
     },
     "execution_count": 44,
     "metadata": {},
     "output_type": "execute_result"
    }
   ],
   "source": [
    "# what are they disagree\n",
    "set(sents_nltk_sp) - set(sents_spacy_sp)"
   ]
  },
  {
   "cell_type": "code",
   "execution_count": 45,
   "metadata": {},
   "outputs": [
    {
     "data": {
      "text/plain": [
       "{\"A Universidat FUMEC (Universidade Fundação Mineira de Educação e Cultura) ye una institución d'amostranza superior en Brasil, con seu en a ciudat de Belo Horizonte, Estato de Minas Gerais, Brasil.  \",\n",
       " 'Bonate Sopra es un municipalitate que se trova in le provincia de Bergamo, in le region del Lombardia, in Italia.  ',\n",
       " 'Dimpués d\\'a retirata esportiva d\\'o suyo pai en l\\'anyo 1991, a suya familia s\\'establió en Zaragoza a on ella y a suya chirmana, naixita de Sevilla mientres o suyo pai chugaba de porter en o Sevilla FC, prencipiaron a practicar chimnasia ritmica en o \"Club Escuela de Gimnasia Rítmica de Zaragoza\".  ',\n",
       " 'Escobar de Polendos es un municipalitate que se trova in le provincia de Segovia, in le communitate autonome de Castilia e Leon, Espania.  ',\n",
       " 'Gran Bilbau (en vasco \"Bilboaldea\", en castellán \"Gran Bilbao\") ye una comarca situata en a provincia de Vizcaya (País Vasco).  ',\n",
       " 'Le termino chalcogenido es plus communmente reservate pro sulfidos, seleniatos, e telluratos, plus tosto que pro oxydos.  ',\n",
       " 'Moresco es un municipalitate que se trova in le provincia de Fermo in le region del Marche in Italia.  ',\n",
       " \"O polen empastra determinadas partz d'o insecto, por eixemplo os pelos d'o torax, y o insecto levará grans de polen a atras flors.  \",\n",
       " 'Un inclination pro le paradoxo es un elemento central del philosophias de Laozi, Zhuangzi, Heracleitos, Bhartrhari, Meister Eckhart, Hegel, Kierkegaard, Nietzsche e G.K. Chesterton, inter multe alteres.'}"
      ]
     },
     "execution_count": 45,
     "metadata": {},
     "output_type": "execute_result"
    }
   ],
   "source": [
    "set(sents_spacy_sp)- set(sents_nltk_sp) "
   ]
  },
  {
   "cell_type": "markdown",
   "metadata": {},
   "source": [
    "By eye, the differences are in two categories:\n",
    "\n",
    "- there are eight sentences that have extra spaces after the period. NLTK does not strip the spare spaces. But I think it's not a big problem grammatically.\n",
    "\n",
    "- NLTK fails in one sentence that has two abbreviations in the middle of the sentence: \"Nietzsche e G.K. Chesterton\". I don't know the meaning of that clause, but Nietzsche and G.K. Chesterton are two different people who have [conversations in religious belief](https://www.youtube.com/watch?v=o4MHDEjar-M)."
   ]
  },
  {
   "cell_type": "markdown",
   "metadata": {},
   "source": [
    "So the accuracy of Spacy is 100%. It even helps to remove spare spaces.\n",
    "NLTK's accuracy is 98.9% gramatically."
   ]
  },
  {
   "cell_type": "code",
   "execution_count": null,
   "metadata": {},
   "outputs": [],
   "source": []
  },
  {
   "cell_type": "code",
   "execution_count": null,
   "metadata": {},
   "outputs": [],
   "source": []
  },
  {
   "cell_type": "code",
   "execution_count": null,
   "metadata": {},
   "outputs": [],
   "source": []
  }
 ],
 "metadata": {
  "kernelspec": {
   "display_name": "Python 3",
   "language": "python",
   "name": "python3"
  },
  "language_info": {
   "codemirror_mode": {
    "name": "ipython",
    "version": 3
   },
   "file_extension": ".py",
   "mimetype": "text/x-python",
   "name": "python",
   "nbconvert_exporter": "python",
   "pygments_lexer": "ipython3",
   "version": "3.8.5"
  }
 },
 "nbformat": 4,
 "nbformat_minor": 4
}
