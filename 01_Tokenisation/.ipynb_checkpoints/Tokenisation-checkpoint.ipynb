{
 "cells": [
  {
   "cell_type": "markdown",
   "metadata": {},
   "source": [
    "# <center>Tokenization Experiment</center>"
   ]
  },
  {
   "cell_type": "markdown",
   "metadata": {},
   "source": [
    "## Report\n",
    "The comparison should include:\n",
    "\n",
    "- Brief description of each segmenter used.\n",
    "\n",
    "- Quantitative evaluation: Accuracy percentage (how many sentence boundaries were detected correctly)\n",
    "\n",
    "- Qualitative evaluation: What kind of mistakes does each segmenter make?\n",
    "\n"
   ]
  },
  {
   "cell_type": "markdown",
   "metadata": {},
   "source": [
    "The wiki corpus I used is written Aragonese.\n",
    "I did my research on this language but found no specific sentence tokenizer build for it.\n",
    "It is a dialect in Spain and share many traits with Spanish.\n",
    "So I try two sentence tokenizers support Spanish (NLTK's `casual_tokenize()` and spaCy's default `sentencizer`)."
   ]
  },
  {
   "cell_type": "code",
   "execution_count": 1,
   "metadata": {},
   "outputs": [],
   "source": [
    "from nltk.tokenize import sent_tokenize\n",
    "import en_core_web_sm\n",
    "from functools import reduce\n",
    "import random\n",
    "import spacy"
   ]
  },
  {
   "cell_type": "code",
   "execution_count": 2,
   "metadata": {},
   "outputs": [],
   "source": [
    "# first get 50 pharagrahs of the Aragonese wiki.text as suggested\n",
    "# read in the whole text in a list of strings\n",
    "with open('../00_Unix/wiki.txt', 'r') as f:\n",
    "    raw = f.readlines()"
   ]
  },
  {
   "cell_type": "code",
   "execution_count": 3,
   "metadata": {},
   "outputs": [
    {
     "data": {
      "text/plain": [
       "['\\n',\n",
       " 'Astronomia:\\n',\n",
       " 'Le astronomia [-mí-] (ab le greco \"astro\" pro \"stella\" e \"nomia\" de \"nomos\" pro \"lege\", tunc \"astronomia\" o \"leges del stellas\") es le scientia que studia le universo material ultra le atmosphera terrestre.\\n',\n",
       " 'Le astronomia es le scientia que tracta de lo que se refere al astros, e principalmente al leges de lor movimentos.\\n',\n",
       " 'Le astronomia se divide in varie specialitates, in function del objecto a studio, technica empleate, e aspecto del astros que se studia (Feinstein):\\n',\n",
       " 'Inter alteres, nos distingue specialitates como:\\n',\n",
       " 'Astronomia, que significa etymologicamente \"leges del stellas\", es le scientia cuje objecto es le observation e le explication de phenomenos que occurre o existe foras del terra. Quando se comprendeva que le elementos que forma le \"objectos celestial\" esseva le mesme que forma le terra, e que le mesme leges del physica se applica a illos, le astrophysica habeva nascite, como un application del physica al phenomenos observate per le astronomia.\\n',\n",
       " 'Le majoritate del astronomos (si non tote illes) ha un solide preparation in le physica, e le observationes es semper ponite in contexto astrophysic, assi que le distinction inter astronomia e astrophysica jam quasi non existe.\\n',\n",
       " 'Le astronomia es un del poc scientias ubi amateurs totevia joca un rollo active, per exemplo in le discoperta de objectos transiente (como cometas) e le observation del variabilitate del stellas.\\n',\n",
       " 'In su principios, le astronomia suponeva solo le observation e prediction del movimentos del objectos celestial que poteva esser identificate per simple vista. Le astronomos esseva communmente tamben sacerdotes, e per un large tempore se credeva que le phenomenos celestial habeva alcun influentia occulte in le eventos in le terra (vide Astrologia). Le grecos faceva importante contributiones al astronomia, ma le progresso cessava quasi completemente in le Medievo, excepto per le travalio de alcun astronomos arabe.\\n']"
      ]
     },
     "execution_count": 3,
     "metadata": {},
     "output_type": "execute_result"
    }
   ],
   "source": [
    "# there are many '\\n' and many strings are too short\n",
    "raw[:10]"
   ]
  },
  {
   "cell_type": "code",
   "execution_count": 4,
   "metadata": {},
   "outputs": [],
   "source": [
    "# get rid of \"\\n\" and short paragraph\n",
    "paragraphs = [p.strip('\\n') for p in raw]"
   ]
  },
  {
   "cell_type": "code",
   "execution_count": 5,
   "metadata": {},
   "outputs": [],
   "source": [
    "# get a list of strings that have a length at least of 100 characters\n",
    "paragraphs = [p for p in paragraphs if len(p)>= 100]"
   ]
  },
  {
   "cell_type": "code",
   "execution_count": 6,
   "metadata": {},
   "outputs": [],
   "source": [
    "# select 50 paragrah without out repetition\n",
    "random.seed(47408)\n",
    "paragraphs = random.sample(paragraphs, 50)"
   ]
  },
  {
   "cell_type": "code",
   "execution_count": 7,
   "metadata": {
    "scrolled": true
   },
   "outputs": [],
   "source": [
    "# concatenate the strings in the list together.\n",
    "txt = reduce(lambda x, y: x + ' ' + y, paragraphs)"
   ]
  },
  {
   "cell_type": "code",
   "execution_count": 24,
   "metadata": {
    "scrolled": false
   },
   "outputs": [
    {
     "data": {
      "text/plain": [
       "'A membrana nuclear u carioteca, ye una capa porosa (con doble unidat de membrana lipidica) que delimita a o nuclio, a estructura caracteristica d\\'as celulas eucariotas. Os textos replegatos amuestran a influencia de rasgos foneticos, sintacticos y lexicos de diversas luengas. Se dicen coordenatas cartesianas en honor a René Descartes (1596-1650), o famoso filosofo y matematico francés que querió alazetar o suyo pensamiento filosofico con a necesidat de prener un «punto de partida» sobre o que edificar tot o conoiximiento. Como creyador d\\'a cheometría analitica, Descartes tamién prencipió prenendo un «punto de partida», o sistema de referencia cartesiano, ta poder representar a cheometría plana, que fa servir nomás dos rectas perpendiculars entre sí que se tallan en un punto dito «orichen de coordenatas». Henri Bergson, naixito de París (Francia) o 18 d\\'octubre de 1859 y muerto tamién en París o 4 de chinero de 1941, estió un filosofo y escritor francés, que recibió por a suya obra o Premio Nobel de Literatura en 1927. Estió miembro de l\\'Academia francesa dende 1914. Les Borges del Camp ye una localidat catalana de lo Baixo Campo, en la Provincia de Tarragona, situata a 13\\xa0km de Tarragona. La suya población ye de 1.855 habitants(2005), en una superficie de 8,23\\xa0km² y una densidat de 225,39 habitants/km². L\\'Alta Ribagorza (en catalán \"Alta Ribagorça\") ye una comarca pirenenca situata en Catalunya a lo sud d\\'a Val d\\'Aran, a l\\'ueste d\\'o Pallars Sobirán y a lo norte d\\'o Pallars Chusán. A ponient muga con a comarca homonima d\\'Aragón. A comarca la creyoron por lei l\\'anyo 1987, chunto con o Plan d\\'Urchel y lo Plan de l\\'Estanyo. Henri Matisse (31 de decembre 1869 – 3 de novembre 1954) esseva un artista francese, cognoscite per su uso de color e per su fluide, brillante e original designos. Como designator, imprimitor e sculptor, ma principalmente como pictor, Matisse es un del artistas le plus cognoscite del 20me seculo. Ben que ille initialmente esseva nominate un \"fauve\" ('"
      ]
     },
     "execution_count": 24,
     "metadata": {},
     "output_type": "execute_result"
    }
   ],
   "source": [
    "# now I compose a text of 50 paragraph from wiki.txt\n",
    "# the length is 13765\n",
    "# the boundary between sentences is reconstructed\n",
    "txt[:2000]"
   ]
  },
  {
   "cell_type": "code",
   "execution_count": 9,
   "metadata": {},
   "outputs": [],
   "source": [
    "# I did my research on Aragonese and found no specific sentence tokenizer\n",
    "# The most similar language that widely-used is Spanish\n",
    "# So here I try NLTK's sent_tokenize on Spanish\n",
    "sents_nltk_sp = sent_tokenize(txt, language='spanish')"
   ]
  },
  {
   "cell_type": "code",
   "execution_count": 10,
   "metadata": {},
   "outputs": [],
   "source": [
    "# also try english tokenzier\n",
    "sents_nltk_en = sent_tokenize(txt, language='english')"
   ]
  },
  {
   "cell_type": "code",
   "execution_count": 11,
   "metadata": {},
   "outputs": [],
   "source": [
    "# try 2 tokenizer with spacy\n",
    "nlp_sp = spacy.load(\"es_core_news_sm\")\n",
    "nlp_en = spacy.load(\"en_core_web_sm\")"
   ]
  },
  {
   "cell_type": "code",
   "execution_count": 22,
   "metadata": {},
   "outputs": [],
   "source": [
    "sents_spacy_sp = [sent for sent in list(nlp_sp(txt).sents)]\n",
    "sents_spacy_en = [sent for sent in list(nlp_en(txt).sents)]"
   ]
  },
  {
   "cell_type": "code",
   "execution_count": null,
   "metadata": {},
   "outputs": [],
   "source": []
  },
  {
   "cell_type": "code",
   "execution_count": null,
   "metadata": {},
   "outputs": [],
   "source": []
  }
 ],
 "metadata": {
  "kernelspec": {
   "display_name": "Python 3",
   "language": "python",
   "name": "python3"
  },
  "language_info": {
   "codemirror_mode": {
    "name": "ipython",
    "version": 3
   },
   "file_extension": ".py",
   "mimetype": "text/x-python",
   "name": "python",
   "nbconvert_exporter": "python",
   "pygments_lexer": "ipython3",
   "version": "3.8.5"
  }
 },
 "nbformat": 4,
 "nbformat_minor": 4
}
