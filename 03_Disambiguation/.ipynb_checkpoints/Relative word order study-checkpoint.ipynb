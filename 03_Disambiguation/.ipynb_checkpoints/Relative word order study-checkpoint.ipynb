{
 "cells": [
  {
   "cell_type": "markdown",
   "metadata": {},
   "source": [
    "# <center>Relative Word Order Study</center>"
   ]
  },
  {
   "cell_type": "markdown",
   "metadata": {},
   "source": [
    "The ten corpus I choose are:\n",
    "- UD_Afrikaans-AfriBooms,\n",
    "- UD_Basque-BDT,\n",
    "- UD_Catalan-AnCora,\n",
    "- UD_Danish-DDT,\n",
    "- UD_English-ESL,\n",
    "- UD_Faroese-FarPaHC,\n",
    "- UD_Galician-CTG,\n",
    "- UD_Hebrew-HTB,\n",
    "- UD_Icelandic-IcePaHC, and\n",
    "- UD_Japanese-BCCWJ."
   ]
  },
  {
   "cell_type": "code",
   "execution_count": 99,
   "metadata": {},
   "outputs": [],
   "source": [
    "import sys\n",
    "import conllu\n",
    "import matplotlib.pyplot as plt"
   ]
  },
  {
   "cell_type": "code",
   "execution_count": 94,
   "metadata": {},
   "outputs": [],
   "source": [
    "def counter(corpus_dir):\n",
    "    \"\"\"\n",
    "    Counts vo and ov ratio.\n",
    "    (ov + vo) does not have to be 1, since there are cases miss at least one of them.\n",
    "    `iobj` and `obj` in the deprel field are the object.\n",
    "    `VERB` in the upos field is the verb.\n",
    "    The result is rounded to 2 decimals.\n",
    "    \"\"\"\n",
    "    corpus = conllu.parse(open(corpus_dir, \"r\").read())\n",
    "    deprel = []\n",
    "    pos = []\n",
    "    for sentence in corpus:\n",
    "        deprel.append([token['deprel'] for token in sentence])\n",
    "        pos.append([token['upos'] for token in sentence])\n",
    "\n",
    "    # obj and iobj are treated equally as obj\n",
    "    for l in deprel:\n",
    "        for e in l:\n",
    "            if e == 'iobj':\n",
    "                e ='obj'\n",
    "\n",
    "    obj_order = []\n",
    "    for l in deprel:\n",
    "        try:\n",
    "            obj_order.append(l.index('obj'))\n",
    "        except:\n",
    "            obj_order.append(-1)\n",
    "\n",
    "    verb_order = []\n",
    "    for l in pos:\n",
    "        try:\n",
    "            verb_order.append(l.index('VERB'))\n",
    "        except:\n",
    "            verb_order.append(-1)\n",
    "\n",
    "    vo = 0\n",
    "    ov = 0\n",
    "    null = 0\n",
    "    for i in range(0, len(verb_order)):\n",
    "        if obj_order[i] > 0 and verb_order[i] > 0:\n",
    "            if obj_order[i] > verb_order[i]:\n",
    "                ov +=1\n",
    "            else:\n",
    "                vo +=1\n",
    "        else:\n",
    "            null+=1\n",
    "    return round(vo/len(verb_order), 2), round(ov/len(verb_order), 2)"
   ]
  },
  {
   "cell_type": "code",
   "execution_count": 97,
   "metadata": {},
   "outputs": [],
   "source": [
    "vo_af, ov_af = counter('./corpus/af_afribooms-ud-train.conllu')\n",
    "vo_ca, ov_ca = counter('./corpus/ca_ancora-ud-train.conllu')\n",
    "vo_da, ov_da = counter('./corpus/da_ddt-ud-train.conllu')\n",
    "vo_en, ov_en = counter('./corpus/en_esl-ud-train.conllu')\n",
    "vo_eu, ov_eu = counter('./corpus/eu_bdt-ud-train.conllu')\n",
    "vo_fo, ov_fo = counter('./corpus/fo_farpahc-ud-train.conllu')\n",
    "vo_gl, ov_gl = counter('./corpus/gl_ctg-ud-train.conllu')\n",
    "vo_he, ov_he = counter('./corpus/he_htb-ud-train.conllu')\n",
    "vo_is, ov_is = counter('./corpus/is_icepahc-ud-train.conllu')\n",
    "vo_ja, ov_ja = counter('./corpus/ja_bccwj-ud-train.conllu')"
   ]
  },
  {
   "cell_type": "code",
   "execution_count": 100,
   "metadata": {},
   "outputs": [
    {
     "data": {
      "image/png": "[encoded data removed]",
      "text/plain": [
       "<Figure size 432x288 with 1 Axes>"
      ]
     },
     "metadata": {
      "needs_background": "light"
     },
     "output_type": "display_data"
    }
   ],
   "source": [
    "labels = {0:'Afrikaans', 1:'Basque', 2:'Catalan',3:'Danish',4:'English', 5:'Faroese', 6:'Galician', 7:'Hebrew',\n",
    "         8:'Icelandic', 9:'Japanese'}\n",
    "x = [ov_af, ov_ca, ov_da, ov_en, ov_eu, ov_fo, ov_gl, ov_he, ov_is, ov_ja]  # proportion of OV\n",
    "y = [vo_af, vo_ca, vo_da, vo_en, vo_eu, vo_fo, vo_gl, vo_he, vo_is, vo_ja ]  # proportion of VO\n",
    "plt.plot(x, y, 'ro')\n",
    "plt.title('Relative word order of verb and object')\n",
    "plt.xlim([0,1]) # Set the x and y axis ranges\n",
    "plt.ylim([0,1])\n",
    "plt.xlabel('OV') # Set the x and y axis labels\n",
    "plt.ylabel('VO')\n",
    "for i in labels:  # Add labels to each of the points\n",
    "    plt.text(x[i]-0.03, y[i]-0.03, labels[i], fontsize=9)\n",
    "plt.savefig(sys.argv[1])\n",
    "plt.show()"
   ]
  }
 ],
 "metadata": {
  "kernelspec": {
   "display_name": "Python 3",
   "language": "python",
   "name": "python3"
  },
  "language_info": {
   "codemirror_mode": {
    "name": "ipython",
    "version": 3
   },
   "file_extension": ".py",
   "mimetype": "text/x-python",
   "name": "python",
   "nbconvert_exporter": "python",
   "pygments_lexer": "ipython3",
   "version": "3.8.5"
  }
 },
 "nbformat": 4,
 "nbformat_minor": 4
}
